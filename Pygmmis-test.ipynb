{
 "cells": [
  {
   "cell_type": "code",
   "execution_count": 1,
   "id": "neutral-record",
   "metadata": {},
   "outputs": [],
   "source": [
    "import os\n",
    "import numpy as np\n",
    "import pygmmis"
   ]
  },
  {
   "cell_type": "code",
   "execution_count": 12,
   "id": "amended-naples",
   "metadata": {},
   "outputs": [],
   "source": [
    "def get_eval_points(samples):\n",
    "    return np.mgrid[np.min(samples[:, 0]):np.max(samples[:, 0]):12j, \n",
    "        np.min(samples[:, 1]):np.max(samples[:, 1]):12j,\n",
    "        np.min(samples[:, 2]):np.max(samples[:, 2]):12j,\n",
    "        np.min(samples[:, 3]):np.max(samples[:, 3]):12j,\n",
    "        np.min(samples[:, 4]):np.max(samples[:, 4]):12j,\n",
    "        np.min(samples[:, 5]):np.max(samples[:, 5]):12j,\n",
    "        np.min(samples[:, 6]):np.max(samples[:, 6]):12j].T.reshape(-1, 7)\n",
    "\n",
    "def score_samples(gmm, points):\n",
    "      return gmm.logL(points)[0].reshape(12, 12, 12, 12, 12, 12, 12)\n",
    "    \n",
    "def test_pgmm_on_chain(objid, imgid, chain, burnin_ratio=2/3, K=30, max_iter=500, tol=5e-4, nthreads=-1, \n",
    "                       split_n_merge=False, oversampling=1, cutoff=None, init_method='random'):    \n",
    "    BURNIN_DISCARD = int(chain.shape[1] * burnin_ratio)\n",
    "    \n",
    "    chain = chain[:, BURNIN_DISCARD:, :].reshape(-1, 7)\n",
    "    \n",
    "    pgmm = pygmmis.GMM(K=K, D=7)\n",
    "    \n",
    "    mins = np.min(chain, axis=0)\n",
    "    maxs = np.max(chain, axis=0)\n",
    "    def selcallback(smpls):\n",
    "        return np.all(np.all([smpls <= maxs, smpls >= mins], axis=0), axis=1)\n",
    "    \n",
    "    logL, U = pygmmis.fit(pgmm, chain, sel_callback=selcallback, maxiter=max_iter, tol=tol, init_method=init_method,\n",
    "                                    oversampling=oversampling, split_n_merge=split_n_merge, cutoff=cutoff) \n",
    "    \n",
    "    pts = get_eval_points(chain)\n",
    "    \n",
    "    scores = score_samples(pgmm, pts, nthreads=nthreads, nchunks=-1)\n",
    "\n",
    "    return pgmm, pts, scores, rmse"
   ]
  },
  {
   "cell_type": "code",
   "execution_count": 13,
   "id": "adjusted-alloy",
   "metadata": {},
   "outputs": [
    {
     "name": "stderr",
     "output_type": "stream",
     "text": [
      "/root/anaconda3/envs/multiproc/lib/python3.8/site-packages/pygmmis.py:156: RuntimeWarning: invalid value encountered in add\n",
      "  return np.log(np.exp(logX + c[tuple(c_shape)]).sum(axis=axis)) - c\n",
      "/root/anaconda3/envs/multiproc/lib/python3.8/site-packages/pygmmis.py:156: RuntimeWarning: invalid value encountered in add\n",
      "  return np.log(np.exp(logX + c[tuple(c_shape)]).sum(axis=axis)) - c\n",
      "/root/anaconda3/envs/multiproc/lib/python3.8/site-packages/pygmmis.py:156: RuntimeWarning: invalid value encountered in add\n",
      "  return np.log(np.exp(logX + c[tuple(c_shape)]).sum(axis=axis)) - c\n",
      "/root/anaconda3/envs/multiproc/lib/python3.8/site-packages/pygmmis.py:156: RuntimeWarning: invalid value encountered in add\n",
      "  return np.log(np.exp(logX + c[tuple(c_shape)]).sum(axis=axis)) - c\n",
      "/root/anaconda3/envs/multiproc/lib/python3.8/site-packages/pygmmis.py:156: RuntimeWarning: invalid value encountered in add\n",
      "  return np.log(np.exp(logX + c[tuple(c_shape)]).sum(axis=axis)) - c\n",
      "/root/anaconda3/envs/multiproc/lib/python3.8/site-packages/pygmmis.py:156: RuntimeWarning: invalid value encountered in add\n",
      "  return np.log(np.exp(logX + c[tuple(c_shape)]).sum(axis=axis)) - c\n",
      "/root/anaconda3/envs/multiproc/lib/python3.8/site-packages/pygmmis.py:156: RuntimeWarning: invalid value encountered in add\n",
      "  return np.log(np.exp(logX + c[tuple(c_shape)]).sum(axis=axis)) - c\n",
      "/root/anaconda3/envs/multiproc/lib/python3.8/site-packages/pygmmis.py:156: RuntimeWarning: invalid value encountered in add\n",
      "  return np.log(np.exp(logX + c[tuple(c_shape)]).sum(axis=axis)) - c\n",
      "/root/anaconda3/envs/multiproc/lib/python3.8/site-packages/pygmmis.py:156: RuntimeWarning: invalid value encountered in add\n",
      "  return np.log(np.exp(logX + c[tuple(c_shape)]).sum(axis=axis)) - c\n",
      "/root/anaconda3/envs/multiproc/lib/python3.8/site-packages/pygmmis.py:156: RuntimeWarning: invalid value encountered in add\n",
      "  return np.log(np.exp(logX + c[tuple(c_shape)]).sum(axis=axis)) - c\n",
      "/root/anaconda3/envs/multiproc/lib/python3.8/site-packages/pygmmis.py:156: RuntimeWarning: invalid value encountered in add\n",
      "  return np.log(np.exp(logX + c[tuple(c_shape)]).sum(axis=axis)) - c\n",
      "/root/anaconda3/envs/multiproc/lib/python3.8/site-packages/pygmmis.py:156: RuntimeWarning: invalid value encountered in add\n",
      "  return np.log(np.exp(logX + c[tuple(c_shape)]).sum(axis=axis)) - c\n",
      "/root/anaconda3/envs/multiproc/lib/python3.8/site-packages/numpy/linalg/linalg.py:2099: RuntimeWarning: invalid value encountered in slogdet\n",
      "  sign, logdet = _umath_linalg.slogdet(a, signature=signature)\n",
      "/root/anaconda3/envs/multiproc/lib/python3.8/site-packages/numpy/linalg/linalg.py:2099: RuntimeWarning: invalid value encountered in slogdet\n",
      "  sign, logdet = _umath_linalg.slogdet(a, signature=signature)\n",
      "/root/anaconda3/envs/multiproc/lib/python3.8/site-packages/numpy/linalg/linalg.py:2099: RuntimeWarning: invalid value encountered in slogdet\n",
      "  sign, logdet = _umath_linalg.slogdet(a, signature=signature)\n",
      "/root/anaconda3/envs/multiproc/lib/python3.8/site-packages/numpy/linalg/linalg.py:2099: RuntimeWarning: invalid value encountered in slogdet\n",
      "  sign, logdet = _umath_linalg.slogdet(a, signature=signature)\n",
      "/root/anaconda3/envs/multiproc/lib/python3.8/site-packages/numpy/linalg/linalg.py:2099: RuntimeWarning: invalid value encountered in slogdet\n",
      "  sign, logdet = _umath_linalg.slogdet(a, signature=signature)\n",
      "/root/anaconda3/envs/multiproc/lib/python3.8/site-packages/numpy/linalg/linalg.py:2099: RuntimeWarning: invalid value encountered in slogdet\n",
      "  sign, logdet = _umath_linalg.slogdet(a, signature=signature)\n",
      "/root/anaconda3/envs/multiproc/lib/python3.8/site-packages/numpy/linalg/linalg.py:2099: RuntimeWarning: invalid value encountered in slogdet\n",
      "  sign, logdet = _umath_linalg.slogdet(a, signature=signature)\n",
      "/root/anaconda3/envs/multiproc/lib/python3.8/site-packages/numpy/linalg/linalg.py:2099: RuntimeWarning: invalid value encountered in slogdet\n",
      "  sign, logdet = _umath_linalg.slogdet(a, signature=signature)\n",
      "/root/anaconda3/envs/multiproc/lib/python3.8/site-packages/numpy/linalg/linalg.py:2099: RuntimeWarning: invalid value encountered in slogdet\n",
      "  sign, logdet = _umath_linalg.slogdet(a, signature=signature)\n",
      "/root/anaconda3/envs/multiproc/lib/python3.8/site-packages/numpy/linalg/linalg.py:2099: RuntimeWarning: invalid value encountered in slogdet\n",
      "  sign, logdet = _umath_linalg.slogdet(a, signature=signature)\n",
      "/root/anaconda3/envs/multiproc/lib/python3.8/site-packages/numpy/linalg/linalg.py:2099: RuntimeWarning: invalid value encountered in slogdet\n",
      "  sign, logdet = _umath_linalg.slogdet(a, signature=signature)\n",
      "/root/anaconda3/envs/multiproc/lib/python3.8/site-packages/numpy/linalg/linalg.py:2099: RuntimeWarning: invalid value encountered in slogdet\n",
      "  sign, logdet = _umath_linalg.slogdet(a, signature=signature)\n",
      "/root/anaconda3/envs/multiproc/lib/python3.8/site-packages/pygmmis.py:902: RuntimeWarning: overflow encountered in exp\n",
      "  log_S[U[k]] += np.exp(log_p[k]) # actually S, not logS\n"
     ]
    },
    {
     "ename": "ValueError",
     "evalue": "probabilities contain NaN",
     "output_type": "error",
     "traceback": [
      "\u001b[0;31m---------------------------------------------------------------------------\u001b[0m",
      "\u001b[0;31mValueError\u001b[0m                                Traceback (most recent call last)",
      "\u001b[0;32m<ipython-input-13-e5fb6d423731>\u001b[0m in \u001b[0;36m<module>\u001b[0;34m\u001b[0m\n\u001b[1;32m      1\u001b[0m \u001b[0mchains3\u001b[0m \u001b[0;34m=\u001b[0m \u001b[0mnp\u001b[0m\u001b[0;34m.\u001b[0m\u001b[0mload\u001b[0m\u001b[0;34m(\u001b[0m\u001b[0;34m'chain3.npy'\u001b[0m\u001b[0;34m)\u001b[0m\u001b[0;34m\u001b[0m\u001b[0;34m\u001b[0m\u001b[0m\n\u001b[0;32m----> 2\u001b[0;31m pgmm3, pts3, scores3, rmse3 = test_pgmm_on_chain(objid=3, imgid=3, chain=chains3, K=20, max_iter=500, tol=5e-4, nthreads=-1, \n\u001b[0m\u001b[1;32m      3\u001b[0m                                          init_method='kmeans', oversampling=1, cutoff=None, split_n_merge=False)\n",
      "\u001b[0;32m<ipython-input-12-63f7d06de1ef>\u001b[0m in \u001b[0;36mtest_pgmm_on_chain\u001b[0;34m(objid, imgid, chain, burnin_ratio, K, max_iter, tol, nthreads, split_n_merge, oversampling, cutoff, init_method, cache_prefix, overwrite_cache, plot)\u001b[0m\n\u001b[1;32m     28\u001b[0m         \u001b[0;32mreturn\u001b[0m \u001b[0mnp\u001b[0m\u001b[0;34m.\u001b[0m\u001b[0mall\u001b[0m\u001b[0;34m(\u001b[0m\u001b[0mnp\u001b[0m\u001b[0;34m.\u001b[0m\u001b[0mall\u001b[0m\u001b[0;34m(\u001b[0m\u001b[0;34m[\u001b[0m\u001b[0msmpls\u001b[0m \u001b[0;34m<=\u001b[0m \u001b[0mmaxs\u001b[0m\u001b[0;34m,\u001b[0m \u001b[0msmpls\u001b[0m \u001b[0;34m>=\u001b[0m \u001b[0mmins\u001b[0m\u001b[0;34m]\u001b[0m\u001b[0;34m,\u001b[0m \u001b[0maxis\u001b[0m\u001b[0;34m=\u001b[0m\u001b[0;36m0\u001b[0m\u001b[0;34m)\u001b[0m\u001b[0;34m,\u001b[0m \u001b[0maxis\u001b[0m\u001b[0;34m=\u001b[0m\u001b[0;36m1\u001b[0m\u001b[0;34m)\u001b[0m\u001b[0;34m\u001b[0m\u001b[0;34m\u001b[0m\u001b[0m\n\u001b[1;32m     29\u001b[0m \u001b[0;34m\u001b[0m\u001b[0m\n\u001b[0;32m---> 30\u001b[0;31m     logL, U = pygmmis.fit(pgmm, chain, sel_callback=selcallback, maxiter=max_iter, tol=tol, init_method=init_method,\n\u001b[0m\u001b[1;32m     31\u001b[0m                                     oversampling=oversampling, split_n_merge=split_n_merge, cutoff=cutoff) \n\u001b[1;32m     32\u001b[0m \u001b[0;34m\u001b[0m\u001b[0m\n",
      "\u001b[0;32m~/anaconda3/envs/multiproc/lib/python3.8/site-packages/pygmmis.py\u001b[0m in \u001b[0;36mfit\u001b[0;34m(gmm, data, covar, R, init_method, w, cutoff, sel_callback, oversampling, covar_callback, background, tol, miniter, maxiter, frozen, split_n_merge, rng)\u001b[0m\n\u001b[1;32m    663\u001b[0m \u001b[0;34m\u001b[0m\u001b[0m\n\u001b[1;32m    664\u001b[0m     \u001b[0;32mtry\u001b[0m\u001b[0;34m:\u001b[0m\u001b[0;34m\u001b[0m\u001b[0;34m\u001b[0m\u001b[0m\n\u001b[0;32m--> 665\u001b[0;31m         \u001b[0mlog_L\u001b[0m\u001b[0;34m,\u001b[0m \u001b[0mN\u001b[0m\u001b[0;34m,\u001b[0m \u001b[0mN2\u001b[0m \u001b[0;34m=\u001b[0m \u001b[0m_EM\u001b[0m\u001b[0;34m(\u001b[0m\u001b[0mgmm\u001b[0m\u001b[0;34m,\u001b[0m \u001b[0mlog_p\u001b[0m\u001b[0;34m,\u001b[0m \u001b[0mU\u001b[0m\u001b[0;34m,\u001b[0m \u001b[0mT_inv\u001b[0m\u001b[0;34m,\u001b[0m \u001b[0mlog_S\u001b[0m\u001b[0;34m,\u001b[0m \u001b[0mH\u001b[0m\u001b[0;34m,\u001b[0m \u001b[0mdata_\u001b[0m\u001b[0;34m,\u001b[0m \u001b[0mcovar\u001b[0m\u001b[0;34m=\u001b[0m\u001b[0mcovar_\u001b[0m\u001b[0;34m,\u001b[0m \u001b[0mR\u001b[0m\u001b[0;34m=\u001b[0m\u001b[0mR\u001b[0m\u001b[0;34m,\u001b[0m \u001b[0msel_callback\u001b[0m\u001b[0;34m=\u001b[0m\u001b[0msel_callback\u001b[0m\u001b[0;34m,\u001b[0m \u001b[0moversampling\u001b[0m\u001b[0;34m=\u001b[0m\u001b[0moversampling\u001b[0m\u001b[0;34m,\u001b[0m \u001b[0mcovar_callback\u001b[0m\u001b[0;34m=\u001b[0m\u001b[0mcovar_callback\u001b[0m\u001b[0;34m,\u001b[0m \u001b[0mw\u001b[0m\u001b[0;34m=\u001b[0m\u001b[0mw\u001b[0m\u001b[0;34m,\u001b[0m \u001b[0mpool\u001b[0m\u001b[0;34m=\u001b[0m\u001b[0mpool\u001b[0m\u001b[0;34m,\u001b[0m \u001b[0mchunksize\u001b[0m\u001b[0;34m=\u001b[0m\u001b[0mchunksize\u001b[0m\u001b[0;34m,\u001b[0m \u001b[0mcutoff\u001b[0m\u001b[0;34m=\u001b[0m\u001b[0mcutoff\u001b[0m\u001b[0;34m,\u001b[0m \u001b[0mbackground\u001b[0m\u001b[0;34m=\u001b[0m\u001b[0mbackground\u001b[0m\u001b[0;34m,\u001b[0m \u001b[0mp_bg\u001b[0m\u001b[0;34m=\u001b[0m\u001b[0mp_bg\u001b[0m\u001b[0;34m,\u001b[0m \u001b[0mchangeable\u001b[0m\u001b[0;34m=\u001b[0m\u001b[0mchangeable\u001b[0m\u001b[0;34m,\u001b[0m \u001b[0mminiter\u001b[0m\u001b[0;34m=\u001b[0m\u001b[0mminiter\u001b[0m\u001b[0;34m,\u001b[0m \u001b[0mmaxiter\u001b[0m\u001b[0;34m=\u001b[0m\u001b[0mmaxiter\u001b[0m\u001b[0;34m,\u001b[0m \u001b[0mtol\u001b[0m\u001b[0;34m=\u001b[0m\u001b[0mtol\u001b[0m\u001b[0;34m,\u001b[0m \u001b[0mrng\u001b[0m\u001b[0;34m=\u001b[0m\u001b[0mrng\u001b[0m\u001b[0;34m)\u001b[0m\u001b[0;34m\u001b[0m\u001b[0;34m\u001b[0m\u001b[0m\n\u001b[0m\u001b[1;32m    666\u001b[0m     \u001b[0;32mexcept\u001b[0m \u001b[0mException\u001b[0m\u001b[0;34m:\u001b[0m\u001b[0;34m\u001b[0m\u001b[0;34m\u001b[0m\u001b[0m\n\u001b[1;32m    667\u001b[0m         \u001b[0;31m# cleanup\u001b[0m\u001b[0;34m\u001b[0m\u001b[0;34m\u001b[0m\u001b[0;34m\u001b[0m\u001b[0m\n",
      "\u001b[0;32m~/anaconda3/envs/multiproc/lib/python3.8/site-packages/pygmmis.py\u001b[0m in \u001b[0;36m_EM\u001b[0;34m(gmm, log_p, U, T_inv, log_S, H, data, covar, R, sel_callback, oversampling, covar_callback, background, p_bg, w, pool, chunksize, cutoff, miniter, maxiter, tol, prefix, changeable, rng)\u001b[0m\n\u001b[1;32m    771\u001b[0m \u001b[0;34m\u001b[0m\u001b[0m\n\u001b[1;32m    772\u001b[0m     \u001b[0;32mwhile\u001b[0m \u001b[0mit\u001b[0m \u001b[0;34m<\u001b[0m \u001b[0mmaxiter\u001b[0m\u001b[0;34m:\u001b[0m \u001b[0;31m# limit loop in case of slow convergence\u001b[0m\u001b[0;34m\u001b[0m\u001b[0;34m\u001b[0m\u001b[0m\n\u001b[0;32m--> 773\u001b[0;31m         \u001b[0mlog_L_\u001b[0m\u001b[0;34m,\u001b[0m \u001b[0mN\u001b[0m\u001b[0;34m,\u001b[0m \u001b[0mN2_\u001b[0m\u001b[0;34m,\u001b[0m \u001b[0mN0_\u001b[0m \u001b[0;34m=\u001b[0m \u001b[0m_EMstep\u001b[0m\u001b[0;34m(\u001b[0m\u001b[0mgmm\u001b[0m\u001b[0;34m,\u001b[0m \u001b[0mlog_p\u001b[0m\u001b[0;34m,\u001b[0m \u001b[0mU\u001b[0m\u001b[0;34m,\u001b[0m \u001b[0mT_inv\u001b[0m\u001b[0;34m,\u001b[0m \u001b[0mlog_S\u001b[0m\u001b[0;34m,\u001b[0m \u001b[0mH\u001b[0m\u001b[0;34m,\u001b[0m \u001b[0mN0\u001b[0m\u001b[0;34m,\u001b[0m \u001b[0mdata\u001b[0m\u001b[0;34m,\u001b[0m \u001b[0mcovar\u001b[0m\u001b[0;34m=\u001b[0m\u001b[0mcovar\u001b[0m\u001b[0;34m,\u001b[0m \u001b[0mR\u001b[0m\u001b[0;34m=\u001b[0m\u001b[0mR\u001b[0m\u001b[0;34m,\u001b[0m \u001b[0msel_callback\u001b[0m\u001b[0;34m=\u001b[0m\u001b[0msel_callback\u001b[0m\u001b[0;34m,\u001b[0m \u001b[0momega\u001b[0m\u001b[0;34m=\u001b[0m\u001b[0momega\u001b[0m\u001b[0;34m,\u001b[0m \u001b[0moversampling\u001b[0m\u001b[0;34m=\u001b[0m\u001b[0moversampling\u001b[0m\u001b[0;34m,\u001b[0m \u001b[0mcovar_callback\u001b[0m\u001b[0;34m=\u001b[0m\u001b[0mcovar_callback\u001b[0m\u001b[0;34m,\u001b[0m \u001b[0mbackground\u001b[0m\u001b[0;34m=\u001b[0m\u001b[0mbackground\u001b[0m\u001b[0;34m,\u001b[0m \u001b[0mp_bg\u001b[0m\u001b[0;34m=\u001b[0m\u001b[0mp_bg\u001b[0m \u001b[0;34m,\u001b[0m \u001b[0mw\u001b[0m\u001b[0;34m=\u001b[0m\u001b[0mw\u001b[0m\u001b[0;34m,\u001b[0m \u001b[0mpool\u001b[0m\u001b[0;34m=\u001b[0m\u001b[0mpool\u001b[0m\u001b[0;34m,\u001b[0m \u001b[0mchunksize\u001b[0m\u001b[0;34m=\u001b[0m\u001b[0mchunksize\u001b[0m\u001b[0;34m,\u001b[0m \u001b[0mcutoff\u001b[0m\u001b[0;34m=\u001b[0m\u001b[0mcutoff_nd\u001b[0m\u001b[0;34m,\u001b[0m \u001b[0mtol\u001b[0m\u001b[0;34m=\u001b[0m\u001b[0mtol\u001b[0m\u001b[0;34m,\u001b[0m \u001b[0mchangeable\u001b[0m\u001b[0;34m=\u001b[0m\u001b[0mchangeable\u001b[0m\u001b[0;34m,\u001b[0m \u001b[0mit\u001b[0m\u001b[0;34m=\u001b[0m\u001b[0mit\u001b[0m\u001b[0;34m,\u001b[0m \u001b[0mrng\u001b[0m\u001b[0;34m=\u001b[0m\u001b[0mrng\u001b[0m\u001b[0;34m)\u001b[0m\u001b[0;34m\u001b[0m\u001b[0;34m\u001b[0m\u001b[0m\n\u001b[0m\u001b[1;32m    774\u001b[0m \u001b[0;34m\u001b[0m\u001b[0m\n\u001b[1;32m    775\u001b[0m         \u001b[0;31m# check if component has moved by more than sigma/2\u001b[0m\u001b[0;34m\u001b[0m\u001b[0;34m\u001b[0m\u001b[0;34m\u001b[0m\u001b[0m\n",
      "\u001b[0;32m~/anaconda3/envs/multiproc/lib/python3.8/site-packages/pygmmis.py\u001b[0m in \u001b[0;36m_EMstep\u001b[0;34m(gmm, log_p, U, T_inv, log_S, H, N0, data, covar, R, sel_callback, omega, oversampling, covar_callback, background, p_bg, w, pool, chunksize, cutoff, tol, changeable, it, rng)\u001b[0m\n\u001b[1;32m    846\u001b[0m         \u001b[0;31m# create fake data with same mechanism as the original data,\u001b[0m\u001b[0;34m\u001b[0m\u001b[0;34m\u001b[0m\u001b[0;34m\u001b[0m\u001b[0m\n\u001b[1;32m    847\u001b[0m         \u001b[0;31m# but invert selection to get the missing part\u001b[0m\u001b[0;34m\u001b[0m\u001b[0;34m\u001b[0m\u001b[0;34m\u001b[0m\u001b[0m\n\u001b[0;32m--> 848\u001b[0;31m         \u001b[0mdata2\u001b[0m\u001b[0;34m,\u001b[0m \u001b[0mcovar2\u001b[0m\u001b[0;34m,\u001b[0m \u001b[0mN0\u001b[0m\u001b[0;34m,\u001b[0m \u001b[0momega2\u001b[0m \u001b[0;34m=\u001b[0m \u001b[0mdraw\u001b[0m\u001b[0;34m(\u001b[0m\u001b[0mgmm\u001b[0m\u001b[0;34m,\u001b[0m \u001b[0mlen\u001b[0m\u001b[0;34m(\u001b[0m\u001b[0mdata\u001b[0m\u001b[0;34m)\u001b[0m\u001b[0;34m*\u001b[0m\u001b[0moversampling\u001b[0m\u001b[0;34m,\u001b[0m \u001b[0msel_callback\u001b[0m\u001b[0;34m=\u001b[0m\u001b[0msel_callback\u001b[0m\u001b[0;34m,\u001b[0m \u001b[0morig_size\u001b[0m\u001b[0;34m=\u001b[0m\u001b[0mN0\u001b[0m\u001b[0;34m*\u001b[0m\u001b[0moversampling\u001b[0m\u001b[0;34m,\u001b[0m \u001b[0minvert_sel\u001b[0m\u001b[0;34m=\u001b[0m\u001b[0;32mTrue\u001b[0m\u001b[0;34m,\u001b[0m \u001b[0mcovar_callback\u001b[0m\u001b[0;34m=\u001b[0m\u001b[0mcovar_callback\u001b[0m\u001b[0;34m,\u001b[0m \u001b[0mbackground\u001b[0m\u001b[0;34m=\u001b[0m\u001b[0mbackground\u001b[0m\u001b[0;34m,\u001b[0m \u001b[0mrng\u001b[0m\u001b[0;34m=\u001b[0m\u001b[0mrng\u001b[0m\u001b[0;34m)\u001b[0m\u001b[0;34m\u001b[0m\u001b[0;34m\u001b[0m\u001b[0m\n\u001b[0m\u001b[1;32m    849\u001b[0m         \u001b[0;31m#data2 = createShared(data2)\u001b[0m\u001b[0;34m\u001b[0m\u001b[0;34m\u001b[0m\u001b[0;34m\u001b[0m\u001b[0m\n\u001b[1;32m    850\u001b[0m         \u001b[0mN0\u001b[0m \u001b[0;34m=\u001b[0m \u001b[0mN0\u001b[0m\u001b[0;34m/\u001b[0m\u001b[0moversampling\u001b[0m\u001b[0;34m\u001b[0m\u001b[0;34m\u001b[0m\u001b[0m\n",
      "\u001b[0;32m~/anaconda3/envs/multiproc/lib/python3.8/site-packages/pygmmis.py\u001b[0m in \u001b[0;36mdraw\u001b[0;34m(gmm, obs_size, sel_callback, invert_sel, orig_size, covar_callback, background, rng)\u001b[0m\n\u001b[1;32m   1183\u001b[0m     \u001b[0;31m# TODO: may want to decide whether to add noise before selection or after\u001b[0m\u001b[0;34m\u001b[0m\u001b[0;34m\u001b[0m\u001b[0;34m\u001b[0m\u001b[0m\n\u001b[1;32m   1184\u001b[0m     \u001b[0;31m# Here we do noise, then selection, but this is not fundamental\u001b[0m\u001b[0;34m\u001b[0m\u001b[0;34m\u001b[0m\u001b[0;34m\u001b[0m\u001b[0m\n\u001b[0;32m-> 1185\u001b[0;31m     \u001b[0mdata\u001b[0m\u001b[0;34m,\u001b[0m \u001b[0mcovar\u001b[0m \u001b[0;34m=\u001b[0m \u001b[0m_drawGMM_BG\u001b[0m\u001b[0;34m(\u001b[0m\u001b[0mgmm\u001b[0m\u001b[0;34m,\u001b[0m \u001b[0morig_size\u001b[0m\u001b[0;34m,\u001b[0m \u001b[0mcovar_callback\u001b[0m\u001b[0;34m=\u001b[0m\u001b[0mcovar_callback\u001b[0m\u001b[0;34m,\u001b[0m \u001b[0mbackground\u001b[0m\u001b[0;34m=\u001b[0m\u001b[0mbackground\u001b[0m\u001b[0;34m,\u001b[0m \u001b[0mrng\u001b[0m\u001b[0;34m=\u001b[0m\u001b[0mrng\u001b[0m\u001b[0;34m)\u001b[0m\u001b[0;34m\u001b[0m\u001b[0;34m\u001b[0m\u001b[0m\n\u001b[0m\u001b[1;32m   1186\u001b[0m \u001b[0;34m\u001b[0m\u001b[0m\n\u001b[1;32m   1187\u001b[0m     \u001b[0;31m# apply selection\u001b[0m\u001b[0;34m\u001b[0m\u001b[0;34m\u001b[0m\u001b[0;34m\u001b[0m\u001b[0m\n",
      "\u001b[0;32m~/anaconda3/envs/multiproc/lib/python3.8/site-packages/pygmmis.py\u001b[0m in \u001b[0;36m_drawGMM_BG\u001b[0;34m(gmm, size, covar_callback, background, rng)\u001b[0m\n\u001b[1;32m   1112\u001b[0m     \u001b[0;31m# draw sample from model, or from background+model\u001b[0m\u001b[0;34m\u001b[0m\u001b[0;34m\u001b[0m\u001b[0;34m\u001b[0m\u001b[0m\n\u001b[1;32m   1113\u001b[0m     \u001b[0;32mif\u001b[0m \u001b[0mbackground\u001b[0m \u001b[0;32mis\u001b[0m \u001b[0;32mNone\u001b[0m\u001b[0;34m:\u001b[0m\u001b[0;34m\u001b[0m\u001b[0;34m\u001b[0m\u001b[0m\n\u001b[0;32m-> 1114\u001b[0;31m         \u001b[0mdata2\u001b[0m \u001b[0;34m=\u001b[0m \u001b[0mgmm\u001b[0m\u001b[0;34m.\u001b[0m\u001b[0mdraw\u001b[0m\u001b[0;34m(\u001b[0m\u001b[0mint\u001b[0m\u001b[0;34m(\u001b[0m\u001b[0mnp\u001b[0m\u001b[0;34m.\u001b[0m\u001b[0mround\u001b[0m\u001b[0;34m(\u001b[0m\u001b[0msize\u001b[0m\u001b[0;34m)\u001b[0m\u001b[0;34m)\u001b[0m\u001b[0;34m,\u001b[0m \u001b[0mrng\u001b[0m\u001b[0;34m=\u001b[0m\u001b[0mrng\u001b[0m\u001b[0;34m)\u001b[0m\u001b[0;34m\u001b[0m\u001b[0;34m\u001b[0m\u001b[0m\n\u001b[0m\u001b[1;32m   1115\u001b[0m     \u001b[0;32melse\u001b[0m\u001b[0;34m:\u001b[0m\u001b[0;34m\u001b[0m\u001b[0;34m\u001b[0m\u001b[0m\n\u001b[1;32m   1116\u001b[0m         \u001b[0;31m# model is GMM + Background\u001b[0m\u001b[0;34m\u001b[0m\u001b[0;34m\u001b[0m\u001b[0;34m\u001b[0m\u001b[0m\n",
      "\u001b[0;32m~/anaconda3/envs/multiproc/lib/python3.8/site-packages/pygmmis.py\u001b[0m in \u001b[0;36mdraw\u001b[0;34m(self, size, rng)\u001b[0m\n\u001b[1;32m    250\u001b[0m         \"\"\"\n\u001b[1;32m    251\u001b[0m         \u001b[0;31m# draw indices for components given amplitudes, need to make sure: sum=1\u001b[0m\u001b[0;34m\u001b[0m\u001b[0;34m\u001b[0m\u001b[0;34m\u001b[0m\u001b[0m\n\u001b[0;32m--> 252\u001b[0;31m         \u001b[0mind\u001b[0m \u001b[0;34m=\u001b[0m \u001b[0mrng\u001b[0m\u001b[0;34m.\u001b[0m\u001b[0mchoice\u001b[0m\u001b[0;34m(\u001b[0m\u001b[0mself\u001b[0m\u001b[0;34m.\u001b[0m\u001b[0mK\u001b[0m\u001b[0;34m,\u001b[0m \u001b[0msize\u001b[0m\u001b[0;34m=\u001b[0m\u001b[0msize\u001b[0m\u001b[0;34m,\u001b[0m \u001b[0mp\u001b[0m\u001b[0;34m=\u001b[0m\u001b[0mself\u001b[0m\u001b[0;34m.\u001b[0m\u001b[0mamp\u001b[0m\u001b[0;34m/\u001b[0m\u001b[0mself\u001b[0m\u001b[0;34m.\u001b[0m\u001b[0mamp\u001b[0m\u001b[0;34m.\u001b[0m\u001b[0msum\u001b[0m\u001b[0;34m(\u001b[0m\u001b[0;34m)\u001b[0m\u001b[0;34m)\u001b[0m\u001b[0;34m\u001b[0m\u001b[0;34m\u001b[0m\u001b[0m\n\u001b[0m\u001b[1;32m    253\u001b[0m         \u001b[0mN\u001b[0m \u001b[0;34m=\u001b[0m \u001b[0mnp\u001b[0m\u001b[0;34m.\u001b[0m\u001b[0mbincount\u001b[0m\u001b[0;34m(\u001b[0m\u001b[0mind\u001b[0m\u001b[0;34m,\u001b[0m \u001b[0mminlength\u001b[0m\u001b[0;34m=\u001b[0m\u001b[0mself\u001b[0m\u001b[0;34m.\u001b[0m\u001b[0mK\u001b[0m\u001b[0;34m)\u001b[0m\u001b[0;34m\u001b[0m\u001b[0;34m\u001b[0m\u001b[0m\n\u001b[1;32m    254\u001b[0m \u001b[0;34m\u001b[0m\u001b[0m\n",
      "\u001b[0;32mmtrand.pyx\u001b[0m in \u001b[0;36mnumpy.random.mtrand.RandomState.choice\u001b[0;34m()\u001b[0m\n",
      "\u001b[0;31mValueError\u001b[0m: probabilities contain NaN"
     ]
    }
   ],
   "source": [
    "chains3 = np.load('chain.npy')\n",
    "pgmm3, pts3, scores3, rmse3 = test_pgmm_on_chain(objid=3, imgid=3, chain=chains3, K=20, max_iter=500, tol=5e-4, nthreads=-1, \n",
    "                                         init_method='kmeans', oversampling=1, cutoff=None, split_n_merge=False)"
   ]
  }
 ],
 "metadata": {
  "kernelspec": {
   "display_name": "Python 3",
   "language": "python",
   "name": "python3"
  },
  "language_info": {
   "codemirror_mode": {
    "name": "ipython",
    "version": 3
   },
   "file_extension": ".py",
   "mimetype": "text/x-python",
   "name": "python",
   "nbconvert_exporter": "python",
   "pygments_lexer": "ipython3",
   "version": "3.8.5"
  }
 },
 "nbformat": 4,
 "nbformat_minor": 5
}
